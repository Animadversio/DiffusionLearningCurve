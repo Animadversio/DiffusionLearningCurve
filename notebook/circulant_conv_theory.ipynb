{
 "cells": [
  {
   "cell_type": "code",
   "execution_count": 1,
   "metadata": {},
   "outputs": [],
   "source": [
    "import torch\n",
    "import torch.nn as nn\n",
    "import torch.optim as optim\n",
    "import torch.nn.functional as F\n",
    "import numpy as np\n",
    "import matplotlib.pyplot as plt\n"
   ]
  },
  {
   "cell_type": "code",
   "execution_count": 5,
   "metadata": {},
   "outputs": [
    {
     "name": "stdout",
     "output_type": "stream",
     "text": [
      "Toeplitz matrix:\n",
      " tensor([[3., 4., 5., 6.],\n",
      "        [2., 3., 4., 5.],\n",
      "        [1., 2., 3., 4.],\n",
      "        [0., 1., 2., 3.]], grad_fn=<IndexBackward0>)\n",
      "\n",
      "Gradient with respect to toeplitz_params:\n",
      " tensor([1., 2., 3., 4., 3., 2., 1.])\n"
     ]
    }
   ],
   "source": [
    "import torch\n",
    "\n",
    "# Define a function that creates a Toeplitz matrix from a parameter vector.\n",
    "def toeplitz_from_params(params, n_rows, n_cols):\n",
    "    \"\"\"\n",
    "    Constructs a Toeplitz matrix of shape (n_rows, n_cols) where:\n",
    "      - params is a 1D tensor of length n_rows + n_cols - 1.\n",
    "      - The main diagonal is at index n_rows - 1 in params.\n",
    "      - For i, j, the element at (i, j) is params[j - i + (n_rows - 1)].\n",
    "    \"\"\"\n",
    "    # Create index grids for rows and columns.\n",
    "    i = torch.arange(n_rows).unsqueeze(1).expand(n_rows, n_cols)\n",
    "    j = torch.arange(n_cols).unsqueeze(0).expand(n_rows, n_cols)\n",
    "    # Calculate indices into the params vector.\n",
    "    indices = j - i + (n_rows - 1)\n",
    "    # Gather values from the params tensor.\n",
    "    return params[indices]\n",
    "\n",
    "# Example dimensions.\n",
    "n_rows, n_cols = 4, 4\n",
    "# Create a learnable parameter vector of the appropriate length.\n",
    "# The length should be n_rows + n_cols - 1.\n",
    "# toeplitz_params = torch.nn.Parameter(torch.randn(n_rows + n_cols - 1))\n",
    "toeplitz_params = torch.nn.Parameter(torch.arange(n_rows + n_cols - 1).float())\n",
    "# Construct the Toeplitz matrix.\n",
    "T = toeplitz_from_params(toeplitz_params, n_rows, n_cols)\n",
    "print(\"Toeplitz matrix:\\n\", T)\n",
    "\n",
    "# Demonstrate differentiability: define a dummy loss and backpropagate.\n",
    "loss = T.sum()\n",
    "loss.backward()\n",
    "print(\"\\nGradient with respect to toeplitz_params:\\n\", toeplitz_params.grad)"
   ]
  },
  {
   "cell_type": "code",
   "execution_count": 7,
   "metadata": {},
   "outputs": [
    {
     "data": {
      "text/plain": [
       "tensor([[4., 5., 6., 7., 8.],\n",
       "        [3., 4., 5., 6., 7.],\n",
       "        [2., 3., 4., 5., 6.],\n",
       "        [1., 2., 3., 4., 5.],\n",
       "        [0., 1., 2., 3., 4.]], grad_fn=<IndexBackward0>)"
      ]
     },
     "execution_count": 7,
     "metadata": {},
     "output_type": "execute_result"
    }
   ],
   "source": [
    "\n",
    "# Example dimensions.\n",
    "n_rows, n_cols = 5, 5\n",
    "# Create a learnable parameter vector of the appropriate length.\n",
    "# The length should be n_rows + n_cols - 1.\n",
    "# toeplitz_params = torch.nn.Parameter(torch.randn(n_rows + n_cols - 1))\n",
    "toeplitz_params = torch.nn.Parameter(torch.arange(n_rows + n_cols - 1).float())\n",
    "# Construct the Toeplitz matrix.\n",
    "T = toeplitz_from_params(toeplitz_params, n_rows, n_cols)\n",
    "T"
   ]
  },
  {
   "cell_type": "code",
   "execution_count": 8,
   "metadata": {},
   "outputs": [
    {
     "data": {
      "text/plain": [
       "tensor([[11.1307,  2.9246,  2.8395,  0.3486,  4.1266],\n",
       "        [ 2.9246,  5.0405,  5.9646,  2.3014, -0.6465],\n",
       "        [ 2.8395,  5.9646, 12.9040,  4.8026, -2.3738],\n",
       "        [ 0.3486,  2.3014,  4.8026,  4.9132, -2.0603],\n",
       "        [ 4.1266, -0.6465, -2.3738, -2.0603,  3.6429]])"
      ]
     },
     "execution_count": 8,
     "metadata": {},
     "output_type": "execute_result"
    }
   ],
   "source": [
    "# construct a symmetric matrix \n",
    "Sigma = torch.randn(n_rows, n_cols)\n",
    "Sigma = Sigma @ Sigma.T\n",
    "Sigma"
   ]
  },
  {
   "cell_type": "code",
   "execution_count": 9,
   "metadata": {},
   "outputs": [
    {
     "data": {
      "text/plain": [
       "tensor([[111.6349,  83.6266, 133.2329,  59.6269,  13.7525],\n",
       "        [ 90.2650,  68.0420, 109.0960,  49.3214,  11.0636],\n",
       "        [ 68.8952,  52.4574,  84.9591,  39.0160,   8.3746],\n",
       "        [ 47.5254,  36.8727,  60.8222,  28.7105,   5.6857],\n",
       "        [ 26.1555,  21.2881,  36.6853,  18.4050,   2.9967]],\n",
       "       grad_fn=<MmBackward0>)"
      ]
     },
     "execution_count": 9,
     "metadata": {},
     "output_type": "execute_result"
    }
   ],
   "source": [
    "T @ Sigma"
   ]
  },
  {
   "cell_type": "code",
   "execution_count": 15,
   "metadata": {},
   "outputs": [
    {
     "data": {
      "text/plain": [
       "tensor([[-2.0053,  3.7825,  0.1258, -0.1789, -2.8215],\n",
       "        [-3.9712,  0.1258,  7.3355,  2.8870, -0.2278],\n",
       "        [-1.4935, -0.1789,  2.8870,  1.3392, -1.0028],\n",
       "        [ 1.1629, -2.8215, -0.2278, -1.0028,  8.6913],\n",
       "        [ 0.0000,  0.0000,  0.0000,  0.0000,  0.0000]], grad_fn=<MmBackward0>)"
      ]
     },
     "execution_count": 15,
     "metadata": {},
     "output_type": "execute_result"
    }
   ],
   "source": [
    "# toeplitz_params = torch.nn.Parameter(torch.arange(n_rows + n_cols - 1).float())\n",
    "toeplitz_params = torch.zeros(n_rows + n_cols - 1)\n",
    "toeplitz_params[n_rows] = 1.0\n",
    "# Construct the Toeplitz matrix.\n",
    "T = toeplitz_from_params(toeplitz_params, n_rows, n_cols)\n",
    "Sigma = torch.randn(n_rows, n_cols)\n",
    "Sigma = Sigma @ Sigma.T\n",
    "Sigma.requires_grad = True\n",
    "T @ Sigma"
   ]
  },
  {
   "cell_type": "code",
   "execution_count": 18,
   "metadata": {},
   "outputs": [],
   "source": [
    "# Function to construct a vector from the sum of traces of diagonals\n",
    "def vector_from_matrix_diagonals(matrix):\n",
    "    n_rows, n_cols = matrix.shape\n",
    "    assert n_rows == n_cols, \"Matrix must be square\"\n",
    "    n = n_rows\n",
    "    \n",
    "    # Initialize the vector to store diagonal sums\n",
    "    vector = torch.zeros(2*n-1)\n",
    "    \n",
    "    # Main diagonal (k=0)\n",
    "    vector[n-1] = torch.trace(matrix)\n",
    "    \n",
    "    # Upper diagonals (k>0)\n",
    "    for k in range(1, n):\n",
    "        # Extract the k-th diagonal\n",
    "        diag_values = torch.diagonal(matrix, offset=k)\n",
    "        vector[n-1+k] = diag_values.sum()\n",
    "    \n",
    "    # Lower diagonals (k<0)\n",
    "    for k in range(1, n):\n",
    "        # Extract the -k-th diagonal\n",
    "        diag_values = torch.diagonal(matrix, offset=-k)\n",
    "        vector[n-1-k] = diag_values.sum()\n",
    "    \n",
    "    return vector\n"
   ]
  },
  {
   "cell_type": "code",
   "execution_count": null,
   "metadata": {},
   "outputs": [],
   "source": []
  },
  {
   "cell_type": "code",
   "execution_count": 63,
   "metadata": {},
   "outputs": [
    {
     "data": {
      "image/png": "[encoded data removed]",
      "text/plain": [
       "<Figure size 1500x1500 with 25 Axes>"
      ]
     },
     "metadata": {},
     "output_type": "display_data"
    }
   ],
   "source": [
    "import matplotlib.pyplot as plt\n",
    "# toeplitz_params = torch.nn.Parameter(torch.arange(n_rows + n_cols - 1).float())\n",
    "n_rows = 9\n",
    "n_cols = 9\n",
    "toeplitz_params = torch.zeros(n_rows + n_cols - 1)\n",
    "toeplitz_params[n_rows - 4] = 1.0\n",
    "# Construct the Toeplitz matrix.\n",
    "Toep = toeplitz_from_params(toeplitz_params, n_rows, n_cols)\n",
    "Sigma = torch.randn(n_rows, n_cols)\n",
    "Sigma = Sigma @ Sigma.T\n",
    "Sigma.requires_grad = True\n",
    "trace_vector = vector_from_matrix_diagonals(Toep @ Sigma)\n",
    "\n",
    "fig, axs = plt.subplots(5, 5, figsize=(15, 15))\n",
    "axs = axs.ravel()\n",
    "axs[0].imshow(Sigma.detach().numpy(), cmap='viridis')\n",
    "axs[0].set_title('Sigma')\n",
    "axs[1].imshow(Toep.detach().numpy(), cmap='viridis')\n",
    "axs[1].set_title('Toep')\n",
    "for i in range(n_rows + n_cols - 1):\n",
    "    grad = torch.autograd.grad(trace_vector[i], Sigma, retain_graph=True)[0]\n",
    "    # Plot the gradient matrix\n",
    "    axs[i+2].imshow(grad.detach().numpy(), cmap='viridis')\n",
    "    # plt.colorbar()\n",
    "    axs[i+2].set_title(f'Gradient for trace_vector[{i}]')\n",
    "    # # Print the gradient for reference\n",
    "    # print(f\"Gradient for trace_vector[{i}]:\")\n",
    "    # print(grad)\n",
    "\n",
    "for i in range(n_rows + n_cols - 1, len(axs)):\n",
    "    axs[i].axis('off')\n",
    "    \n",
    "plt.tight_layout()\n",
    "plt.show()"
   ]
  },
  {
   "cell_type": "code",
   "execution_count": null,
   "metadata": {},
   "outputs": [],
   "source": []
  },
  {
   "cell_type": "code",
   "execution_count": null,
   "metadata": {},
   "outputs": [],
   "source": [
    "vector_from_matrix_diagonals(Sigma)"
   ]
  },
  {
   "cell_type": "code",
   "execution_count": 16,
   "metadata": {},
   "outputs": [
    {
     "data": {
      "text/plain": [
       "tensor([[0., 1., 0., 0., 0.],\n",
       "        [0., 0., 1., 0., 0.],\n",
       "        [0., 0., 0., 1., 0.],\n",
       "        [0., 0., 0., 0., 1.],\n",
       "        [0., 0., 0., 0., 0.]])"
      ]
     },
     "execution_count": 16,
     "metadata": {},
     "output_type": "execute_result"
    }
   ],
   "source": [
    "T"
   ]
  },
  {
   "cell_type": "markdown",
   "metadata": {},
   "source": [
    "$$\n",
    "P=\\begin{bmatrix}0 & 1 & 0 & \\cdots & 0\\\\\n",
    "0 & 0 & 1 & \\cdots & 0\\\\\n",
    "\\vdots & \\vdots & \\vdots & \\ddots & \\vdots\\\\\n",
    "0 & 0 & 0 & \\cdots & 1\\\\\n",
    "0 & 0 & 0 & \\cdots & 0\n",
    "\\end{bmatrix}.\n",
    "$$"
   ]
  },
  {
   "cell_type": "markdown",
   "metadata": {},
   "source": [
    "$$S(k)=\\begin{cases}\n",
    "P^{k}, & k\\ge0,\\\\\n",
    "(P^{T})^{-k}, & k<0,\n",
    "\\end{cases}$$"
   ]
  },
  {
   "cell_type": "markdown",
   "metadata": {},
   "source": [
    "$$\\mathcal{T}[k,m]={Tr}[S(m)(\\sigma^{2}I+\\Sigma)S(k)^{T}]$$"
   ]
  },
  {
   "cell_type": "code",
   "execution_count": 115,
   "metadata": {},
   "outputs": [
    {
     "name": "stdout",
     "output_type": "stream",
     "text": [
      "T[2, -1] = -3.7279253005981445\n"
     ]
    },
    {
     "data": {
      "text/plain": [
       "tensor([[ 2.9153, -1.1888, -4.4044, -3.7279, -1.2051],\n",
       "        [-1.1888,  3.8364, -0.8797, -4.4044, -3.7279],\n",
       "        [-4.4044, -0.8797,  4.0973, -0.8797, -4.4044],\n",
       "        [-3.7279, -4.4044, -0.8797,  3.7231, -1.4712],\n",
       "        [-1.2051, -3.7279, -4.4044, -1.4712,  2.3368]])"
      ]
     },
     "execution_count": 115,
     "metadata": {},
     "output_type": "execute_result"
    }
   ],
   "source": [
    "import torch\n",
    "\n",
    "def shift_operator_noncyclic(k, n, device=None):\n",
    "    \"\"\"\n",
    "    Returns the non-cyclic shift operator S(k) as an n x n matrix.\n",
    "    For k >= 0, S(k) shifts a vector downward by k positions (zeros at the top).\n",
    "    For k < 0, S(k) shifts a vector upward by -k positions (zeros at the bottom).\n",
    "    \"\"\"\n",
    "    if device is None:\n",
    "        device = torch.device('cpu')\n",
    "    \n",
    "    S = torch.zeros(n, n, device=device)\n",
    "    \n",
    "    if k >= 0:\n",
    "        # For k >= 0, S(k)[i, j] = 1 if i = j + k, for j such that j + k < n.\n",
    "        # Equivalently, we fill the block S[k:n, 0:n-k] with an identity.\n",
    "        S[k:n, 0:n-k] = torch.eye(n - k, device=device)\n",
    "    else:\n",
    "        # For k < 0, let p = -k. Then S(k)[i, j] = 1 if i = j - k (i.e. j = i + p)\n",
    "        # for i such that i + p < n.\n",
    "        p = -k\n",
    "        S[0:n-p, p:n] = torch.eye(n - p, device=device)\n",
    "    \n",
    "    return S\n",
    "\n",
    "\n",
    "def T_function_noncyclic(k, m, sigma2, Sigma):\n",
    "    \"\"\"\n",
    "    Computes the function T[k, m] = Tr[S(k)S(m)(sigma^2 I + Sigma)]\n",
    "    using the non-cyclic (zero–padded) shift operator.\n",
    "    \n",
    "    Parameters:\n",
    "        k (int): first shift index.\n",
    "        m (int): second shift index.\n",
    "        sigma2 (float or torch scalar): the variance term.\n",
    "        Sigma (torch.Tensor): an n x n matrix.\n",
    "        \n",
    "    Returns:\n",
    "        torch.Tensor: a scalar tensor equal to the trace.\n",
    "    \"\"\"\n",
    "    n = Sigma.shape[0]\n",
    "    device = Sigma.device\n",
    "    I = torch.eye(n, device=device)\n",
    "    M = sigma2 * I + Sigma\n",
    "    \n",
    "    # Get the non-cyclic shift operators\n",
    "    S_k = shift_operator_noncyclic(k, n, device=device)\n",
    "    S_m = shift_operator_noncyclic(m, n, device=device)\n",
    "    \n",
    "    # Multiply the two shift matrices and then by M\n",
    "    product = S_m @ M @ S_k.T\n",
    "    \n",
    "    # Return the trace of the product\n",
    "    return torch.trace(product)\n",
    "\n",
    "# Example usage:\n",
    "if __name__ == \"__main__\":\n",
    "    n = 11  # matrix dimension\n",
    "    sigma2 = 0.5\n",
    "    device = torch.device('cpu')\n",
    "    # Create an example Sigma (symmetric for demonstration)\n",
    "    A = torch.randn(n, n, device=device)\n",
    "    Sigma = (A + A.T) / 2\n",
    "\n",
    "    k = 2   # shift down by 2\n",
    "    m = -1  # shift up by 1\n",
    "    T_val = T_function_noncyclic(k, m, sigma2, Sigma)\n",
    "    print(\"T[{}, {}] = {}\".format(k, m, T_val.item()))\n",
    "    # build the T matrix k from -2 to 2\n",
    "    T_matrix = torch.zeros(5, 5)\n",
    "    for k in range(-2, 3):\n",
    "        for m in range(-2, 3):\n",
    "            T_matrix[k+2, m+2] = T_function_noncyclic(k, m, sigma2, Sigma)\n",
    "    \n",
    "T_matrix\n",
    "    \n",
    "    "
   ]
  },
  {
   "cell_type": "code",
   "execution_count": 116,
   "metadata": {},
   "outputs": [
    {
     "data": {
      "text/plain": [
       "tensor([[ 4.9552e+02,  7.6487e+00,  4.5898e+00, -5.3549e+00,  1.9301e+01,\n",
       "         -9.9047e+00, -1.8652e+01, -6.7970e+00,  1.0262e+01, -1.3319e+01,\n",
       "         -2.1439e+01],\n",
       "        [ 7.6487e+00,  5.5469e+02,  3.4669e+00,  4.2592e+00, -2.2363e+01,\n",
       "          2.6534e+01, -9.9047e+00, -1.8652e+01, -6.7970e+00,  1.0262e+01,\n",
       "         -1.3319e+01],\n",
       "        [ 4.5898e+00,  3.4669e+00,  6.0819e+02,  3.9229e+00, -4.8412e+00,\n",
       "         -2.5260e+01,  2.6534e+01, -9.9047e+00, -1.8652e+01, -6.7970e+00,\n",
       "          1.0262e+01],\n",
       "        [-5.3549e+00,  4.2592e+00,  3.9229e+00,  6.6159e+02, -9.8097e-01,\n",
       "         -7.1292e+00, -2.5260e+01,  2.6534e+01, -9.9047e+00, -1.8652e+01,\n",
       "         -6.7970e+00],\n",
       "        [ 1.9301e+01, -2.2363e+01, -4.8412e+00, -9.8097e-01,  7.0582e+02,\n",
       "         -6.6403e+00, -7.1292e+00, -2.5260e+01,  2.6534e+01, -9.9047e+00,\n",
       "         -1.8652e+01],\n",
       "        [-9.9047e+00,  2.6534e+01, -2.5260e+01, -7.1292e+00, -6.6403e+00,\n",
       "          7.5191e+02, -6.6403e+00, -7.1292e+00, -2.5260e+01,  2.6534e+01,\n",
       "         -9.9047e+00],\n",
       "        [-1.8652e+01, -9.9047e+00,  2.6534e+01, -2.5260e+01, -7.1292e+00,\n",
       "         -6.6403e+00,  7.1552e+02, -3.7189e+00, -8.3836e+00, -2.5150e+01,\n",
       "          1.8151e+01],\n",
       "        [-6.7970e+00, -1.8652e+01, -9.9047e+00,  2.6534e+01, -2.5260e+01,\n",
       "         -7.1292e+00, -3.7189e+00,  6.6408e+02, -4.7105e-01, -1.6186e+01,\n",
       "         -2.0960e+01],\n",
       "        [ 1.0262e+01, -6.7970e+00, -1.8652e+01, -9.9047e+00,  2.6534e+01,\n",
       "         -2.5260e+01, -8.3836e+00, -4.7105e-01,  6.1037e+02,  3.3709e+00,\n",
       "         -1.5412e+01],\n",
       "        [-1.3319e+01,  1.0262e+01, -6.7970e+00, -1.8652e+01, -9.9047e+00,\n",
       "          2.6534e+01, -2.5150e+01, -1.6186e+01,  3.3709e+00,  5.6737e+02,\n",
       "         -2.2636e+00],\n",
       "        [-2.1439e+01, -1.3319e+01,  1.0262e+01, -6.7970e+00, -1.8652e+01,\n",
       "         -9.9047e+00,  1.8151e+01, -2.0960e+01, -1.5412e+01, -2.2636e+00,\n",
       "          5.1948e+02]])"
      ]
     },
     "execution_count": 116,
     "metadata": {},
     "output_type": "execute_result"
    }
   ],
   "source": [
    "def build_T_matrix(Sigma, sigma2, index_range=(-3,3)):\n",
    "    n = Sigma.shape[0]\n",
    "    k_neg, k_pos = index_range\n",
    "    index_range = (k_neg, k_pos+1)\n",
    "    T_matrix_size = k_pos - k_neg + 1\n",
    "    T_matrix = torch.zeros(T_matrix_size, T_matrix_size)\n",
    "    for k in range(k_neg, k_pos+1):\n",
    "        for m in range(k_neg, k_pos+1):\n",
    "            T_matrix[k-k_neg, m-k_neg] = T_function_noncyclic(k, m, sigma2, Sigma)\n",
    "    return T_matrix\n",
    "\n",
    "\n",
    "n = 15  # matrix dimension\n",
    "sigma2 = 0.0\n",
    "device = torch.device('cpu')\n",
    "# Create an example Sigma (symmetric for demonstration)\n",
    "A = torch.randn(n, 100, device=device)\n",
    "Sigma = (A @ A.T) / 2\n",
    "T_matrix = build_T_matrix(Sigma, sigma2, index_range=(-5, 5))\n",
    "T_matrix"
   ]
  },
  {
   "cell_type": "code",
   "execution_count": 120,
   "metadata": {},
   "outputs": [
    {
     "data": {
      "text/plain": [
       "tensor([[12.,  0.,  0.,  0.,  0.,  0.,  0.],\n",
       "        [ 0., 13.,  0.,  0.,  0.,  0.,  0.],\n",
       "        [ 0.,  0., 14.,  0.,  0.,  0.,  0.],\n",
       "        [ 0.,  0.,  0., 15.,  0.,  0.,  0.],\n",
       "        [ 0.,  0.,  0.,  0., 14.,  0.,  0.],\n",
       "        [ 0.,  0.,  0.,  0.,  0., 13.,  0.],\n",
       "        [ 0.,  0.,  0.,  0.,  0.,  0., 12.]])"
      ]
     },
     "execution_count": 120,
     "metadata": {},
     "output_type": "execute_result"
    }
   ],
   "source": [
    "T_matrix = build_T_matrix(torch.zeros(n, n), 1, index_range=(-3, 3))\n",
    "T_matrix"
   ]
  },
  {
   "cell_type": "code",
   "execution_count": 117,
   "metadata": {},
   "outputs": [
    {
     "data": {
      "image/png": "[encoded data removed]",
      "text/plain": [
       "<Figure size 640x480 with 1 Axes>"
      ]
     },
     "metadata": {},
     "output_type": "display_data"
    }
   ],
   "source": [
    "# compute eigenvectors and eigenvalues of T_matrix\n",
    "eigval, eigvec = torch.linalg.eigh(T_matrix)\n",
    "plt.plot(eigval.detach().numpy()) \n",
    "plt.yscale('log')  "
   ]
  },
  {
   "cell_type": "code",
   "execution_count": null,
   "metadata": {},
   "outputs": [
    {
     "data": {
      "image/png": "[encoded data removed]",
      "text/plain": [
       "<Figure size 640x480 with 2 Axes>"
      ]
     },
     "metadata": {},
     "output_type": "display_data"
    }
   ],
   "source": [
    "plt.imshow(T_matrix.detach().numpy(), cmap='viridis')\n",
    "plt.colorbar()\n",
    "plt.show()"
   ]
  },
  {
   "cell_type": "code",
   "execution_count": 82,
   "metadata": {},
   "outputs": [
    {
     "data": {
      "text/plain": [
       "tensor([[-0.2462, -0.7864,  0.4945,  3.9405,  4.2868],\n",
       "        [-0.7864,  0.4945,  4.3930,  4.8486,  3.9405],\n",
       "        [ 0.4945,  4.3930,  7.3398,  4.3930,  0.4945],\n",
       "        [ 3.3129,  7.3192,  4.3930,  0.4945, -0.7864],\n",
       "        [ 6.8608,  3.3129,  0.4945, -0.7864, -0.2462]])"
      ]
     },
     "execution_count": 82,
     "metadata": {},
     "output_type": "execute_result"
    }
   ],
   "source": [
    "T_matrix"
   ]
  },
  {
   "cell_type": "code",
   "execution_count": 80,
   "metadata": {},
   "outputs": [
    {
     "ename": "RuntimeError",
     "evalue": "Trying to create tensor with negative dimension -1: [-1]",
     "output_type": "error",
     "traceback": [
      "\u001b[0;31m---------------------------------------------------------------------------\u001b[0m",
      "\u001b[0;31mRuntimeError\u001b[0m                              Traceback (most recent call last)",
      "Cell \u001b[0;32mIn[80], line 1\u001b[0m\n\u001b[0;32m----> 1\u001b[0m \u001b[43mshift_operator_noncyclic\u001b[49m\u001b[43m(\u001b[49m\u001b[38;5;241;43m-\u001b[39;49m\u001b[38;5;241;43m6\u001b[39;49m\u001b[43m,\u001b[49m\u001b[43m \u001b[49m\u001b[38;5;241;43m5\u001b[39;49m\u001b[43m)\u001b[49m\n",
      "Cell \u001b[0;32mIn[77], line 29\u001b[0m, in \u001b[0;36mshift_operator_noncyclic\u001b[0;34m(k, n, device)\u001b[0m\n\u001b[1;32m     27\u001b[0m \u001b[38;5;28;01mif\u001b[39;00m device \u001b[38;5;129;01mis\u001b[39;00m \u001b[38;5;28;01mNone\u001b[39;00m:\n\u001b[1;32m     28\u001b[0m     device \u001b[38;5;241m=\u001b[39m torch\u001b[38;5;241m.\u001b[39mdevice(\u001b[38;5;124m'\u001b[39m\u001b[38;5;124mcpu\u001b[39m\u001b[38;5;124m'\u001b[39m)\n\u001b[0;32m---> 29\u001b[0m \u001b[38;5;28;01mreturn\u001b[39;00m torch\u001b[38;5;241m.\u001b[39mdiag(\u001b[43mtorch\u001b[49m\u001b[38;5;241;43m.\u001b[39;49m\u001b[43mones\u001b[49m\u001b[43m(\u001b[49m\u001b[43mn\u001b[49m\u001b[43m \u001b[49m\u001b[38;5;241;43m-\u001b[39;49m\u001b[43m \u001b[49m\u001b[38;5;28;43mabs\u001b[39;49m\u001b[43m(\u001b[49m\u001b[43mk\u001b[49m\u001b[43m)\u001b[49m\u001b[43m,\u001b[49m\u001b[43m \u001b[49m\u001b[43mdevice\u001b[49m\u001b[38;5;241;43m=\u001b[39;49m\u001b[43mdevice\u001b[49m\u001b[43m)\u001b[49m, diagonal\u001b[38;5;241m=\u001b[39mk)\n",
      "\u001b[0;31mRuntimeError\u001b[0m: Trying to create tensor with negative dimension -1: [-1]"
     ]
    }
   ],
   "source": [
    "shift_operator_noncyclic(-6, 5)"
   ]
  },
  {
   "cell_type": "code",
   "execution_count": 88,
   "metadata": {},
   "outputs": [
    {
     "data": {
      "text/plain": [
       "tensor([[0., 0., 0., 0., 0., 0.],\n",
       "        [0., 0., 0., 0., 0., 0.],\n",
       "        [0., 0., 1., 0., 0., 0.],\n",
       "        [0., 0., 0., 1., 0., 0.],\n",
       "        [0., 0., 0., 0., 1., 0.],\n",
       "        [0., 0., 0., 0., 0., 1.]])"
      ]
     },
     "execution_count": 88,
     "metadata": {},
     "output_type": "execute_result"
    }
   ],
   "source": [
    "k, m, n = 2, -2, 6\n",
    "S_k = shift_operator_noncyclic(k, n, device=device)\n",
    "S_m = shift_operator_noncyclic(m, n, device=device)\n",
    "S_k @ S_m"
   ]
  },
  {
   "cell_type": "code",
   "execution_count": null,
   "metadata": {},
   "outputs": [],
   "source": []
  }
 ],
 "metadata": {
  "kernelspec": {
   "display_name": "torch2",
   "language": "python",
   "name": "python3"
  },
  "language_info": {
   "codemirror_mode": {
    "name": "ipython",
    "version": 3
   },
   "file_extension": ".py",
   "mimetype": "text/x-python",
   "name": "python",
   "nbconvert_exporter": "python",
   "pygments_lexer": "ipython3",
   "version": "3.10.14"
  }
 },
 "nbformat": 4,
 "nbformat_minor": 2
}
